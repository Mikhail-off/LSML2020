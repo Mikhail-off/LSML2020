{
 "cells": [
  {
   "cell_type": "markdown",
   "metadata": {},
   "source": [
    "# Fix all jupyter notebook problems\n",
    "\n",
    "<sub> 0. Pray </sub> \n",
    "1. Connect to head machine via SSH\n",
    "2. Open `/usr/bin/anaconda/lib/python2.7/site-packages/nbformat/_version.py` and change 5 to 4.\n",
    "3. Fix anaconda installation via official fix script. \n",
    "```\n",
    "curl https://gregorysfixes.blob.core.windows.net/public/fix-conda.sh | sudo sh\n",
    "```\n",
    "4. Install all necessary python packages. At least kaggle - \n",
    "```\n",
    "sudo /usr/bin/anaconda/bin/conda install -c conda-forge kaggle --yes\n",
    "```\n",
    "5. Open Ambari and restart jupyter service.\n",
    "6. Open azure jupyter notebook and upload this notebook\n",
    "7. Check, that cells below can be executed correctly"
   ]
  },
  {
   "cell_type": "markdown",
   "metadata": {},
   "source": [
    "# Create Spark Context"
   ]
  },
  {
   "cell_type": "code",
   "execution_count": 1,
   "metadata": {},
   "outputs": [],
   "source": [
    "import os\n",
    "os.environ[\"JAVA_HOME\"] = \"/usr/lib/jvm/java-8-openjdk-amd64\"\n",
    "os.environ[\"SPARK_HOME\"] = \"/opt/spark/\""
   ]
  },
  {
   "cell_type": "code",
   "execution_count": 2,
   "metadata": {},
   "outputs": [],
   "source": [
    "import findspark\n",
    "findspark.init('/opt/spark')\n",
    "from pyspark import SparkContext\n",
    "from pyspark.conf import SparkConf\n",
    "conf = SparkConf().set(\"spark.ui.port\", 5050).set(\"spark.driver.memory\", \"32g\").set(\"spark.executor.memory\", \"32g\").set(\"spark.local.dir\", \"datadrive/spark-temp\")\n",
    "# sc.stop()\n",
    "sc = SparkContext(\"local[8]\", \"my app\", conf=conf)  # spark with 4 cores"
   ]
  },
  {
   "cell_type": "code",
   "execution_count": 3,
   "metadata": {},
   "outputs": [],
   "source": [
    "from pyspark.sql import SparkSession\n",
    "spark = SparkSession.builder.master(\"local[*]\").getOrCreate()"
   ]
  },
  {
   "cell_type": "code",
   "execution_count": 4,
   "metadata": {
    "cell_status": {
     "execute_time": {
      "duration": 47.552978515625,
      "end_time": 1582237561341.93
     }
    }
   },
   "outputs": [],
   "source": [
    "sc = spark.sparkContext"
   ]
  },
  {
   "cell_type": "code",
   "execution_count": 5,
   "metadata": {},
   "outputs": [
    {
     "data": {
      "text/html": [
       "\n",
       "        <div>\n",
       "            <p><b>SparkContext</b></p>\n",
       "\n",
       "            <p><a href=\"http://nmmikhaylov-bhw.internal.cloudapp.net:5050\">Spark UI</a></p>\n",
       "\n",
       "            <dl>\n",
       "              <dt>Version</dt>\n",
       "                <dd><code>v2.4.5</code></dd>\n",
       "              <dt>Master</dt>\n",
       "                <dd><code>local[8]</code></dd>\n",
       "              <dt>AppName</dt>\n",
       "                <dd><code>my app</code></dd>\n",
       "            </dl>\n",
       "        </div>\n",
       "        "
      ],
      "text/plain": [
       "<SparkContext master=local[8] appName=my app>"
      ]
     },
     "execution_count": 5,
     "metadata": {},
     "output_type": "execute_result"
    }
   ],
   "source": [
    "sc"
   ]
  },
  {
   "cell_type": "code",
   "execution_count": 6,
   "metadata": {
    "cell_status": {
     "execute_time": {
      "duration": 241.994873046875,
      "end_time": 1582237561595.04
     }
    }
   },
   "outputs": [],
   "source": [
    "import pandas as pd\n",
    "from pyspark.sql import SparkSession\n",
    "\n",
    "ss = SparkSession(sc)"
   ]
  },
  {
   "cell_type": "code",
   "execution_count": 7,
   "metadata": {
    "cell_status": {
     "execute_time": {
      "duration": 246.215087890625,
      "end_time": 1582237561859.174
     }
    }
   },
   "outputs": [],
   "source": [
    "hadoop = sc._jvm.org.apache.hadoop\n",
    "fs = hadoop.fs.FileSystem\n",
    "conf = hadoop.conf.Configuration() \n",
    "path = hadoop.fs.Path('/')\n",
    "    \n",
    "def hdfs_ls(path):\n",
    "    result = []\n",
    "    for f in fs.get(conf).listStatus(hadoop.fs.Path(path)):\n",
    "        result.append(str(f.getPath()))\n",
    "    return result"
   ]
  },
  {
   "cell_type": "code",
   "execution_count": 8,
   "metadata": {
    "cell_status": {
     "execute_time": {
      "duration": 758.401123046875,
      "end_time": 1582237603500.463
     }
    }
   },
   "outputs": [
    {
     "name": "stdout",
     "output_type": "stream",
     "text": [
      "['file:/etc',\n",
      " 'file:/tmp',\n",
      " 'file:/lib64',\n",
      " 'file:/bin',\n",
      " 'file:/boot',\n",
      " 'file:/sys',\n",
      " 'file:/vmlinuz.old',\n",
      " 'file:/opt',\n",
      " 'file:/mnt',\n",
      " 'file:/.rnd',\n",
      " 'file:/home',\n",
      " 'file:/lib',\n",
      " 'file:/srv',\n",
      " 'file:/usr',\n",
      " 'file:/datadrive',\n",
      " 'file:/run',\n",
      " 'file:/lost+found',\n",
      " 'file:/snap',\n",
      " 'file:/var',\n",
      " 'file:/proc',\n",
      " 'file:/root',\n",
      " 'file:/initrd.img',\n",
      " 'file:/vmlinuz',\n",
      " 'file:/media',\n",
      " 'file:/sbin',\n",
      " 'file:/dev',\n",
      " 'file:/initrd.img.old']\n"
     ]
    }
   ],
   "source": [
    "from pprint import pprint\n",
    "\n",
    "pprint(hdfs_ls('/'))"
   ]
  },
  {
   "cell_type": "markdown",
   "metadata": {},
   "source": [
    "# Download task data\n",
    "\n",
    "Download data directly from kaggle. Read this to understand how: https://github.com/Kaggle/kaggle-api"
   ]
  },
  {
   "cell_type": "code",
   "execution_count": 9,
   "metadata": {
    "cell_status": {
     "execute_time": {
      "duration": 210.26806640625,
      "end_time": 1582219662750.281
     }
    }
   },
   "outputs": [
    {
     "name": "stdout",
     "output_type": "stream",
     "text": [
      "{\"username\":\"hukutoc46\",\"key\":\"225711d8186c94c45fa2e360a70419c4\"}\r\n"
     ]
    }
   ],
   "source": [
    "#%%local\n",
    "! cat ~/.kaggle/kaggle.json"
   ]
  },
  {
   "cell_type": "code",
   "execution_count": 10,
   "metadata": {
    "cell_status": {
     "execute_time": {
      "duration": 1054.541015625,
      "end_time": 1582220036186.809
     }
    }
   },
   "outputs": [
    {
     "name": "stdout",
     "output_type": "stream",
     "text": [
      "name                           size  creationDate         \r\n",
      "----------------------------  -----  -------------------  \r\n",
      "documents_meta.csv.zip         16MB  2018-06-22 05:33:10  \r\n",
      "documents_entities.csv.zip    126MB  2018-06-22 05:33:10  \r\n",
      "clicks_train.csv.zip          390MB  2018-06-22 05:33:10  \r\n",
      "documents_topics.csv.zip      121MB  2018-06-22 05:33:10  \r\n",
      "promoted_content.csv.zip        3MB  2018-06-22 05:33:10  \r\n",
      "clicks_test.csv.zip           135MB  2018-06-22 05:33:10  \r\n",
      "events.csv.zip                478MB  2018-06-22 05:33:10  \r\n",
      "page_views_sample.csv.zip     149MB  2018-06-22 05:33:10  \r\n",
      "documents_categories.csv.zip   32MB  2018-06-22 05:33:10  \r\n",
      "page_views.csv.zip             35GB  2018-06-22 05:33:10  \r\n",
      "sample_submission.csv.zip     100MB  2018-06-22 05:33:10  \r\n"
     ]
    }
   ],
   "source": [
    "# %%local\n",
    "! kaggle competitions files outbrain-click-prediction"
   ]
  },
  {
   "cell_type": "code",
   "execution_count": 11,
   "metadata": {
    "cell_status": {
     "execute_time": {
      "duration": 1029.8291015625,
      "end_time": 1582237621450.165
     }
    }
   },
   "outputs": [
    {
     "name": "stdout",
     "output_type": "stream",
     "text": [
      "404 - Not Found\r\n"
     ]
    }
   ],
   "source": [
    "#%%local\n",
    "! kaggle competitions download -c outbrain-click-prediction"
   ]
  },
  {
   "cell_type": "code",
   "execution_count": 12,
   "metadata": {},
   "outputs": [
    {
     "name": "stdout",
     "output_type": "stream",
     "text": [
      "documents_meta.csv.zip: Skipping, found more recently modified local copy (use --force to force download)\n",
      "events.csv.zip: Skipping, found more recently modified local copy (use --force to force download)\n",
      "documents_entities.csv.zip: Skipping, found more recently modified local copy (use --force to force download)\n",
      "documents_topics.csv.zip: Skipping, found more recently modified local copy (use --force to force download)\n",
      "promoted_content.csv.zip: Skipping, found more recently modified local copy (use --force to force download)\n",
      "documents_categories.csv.zip: Skipping, found more recently modified local copy (use --force to force download)\n",
      "page_views_sample.csv.zip: Skipping, found more recently modified local copy (use --force to force download)\n",
      "sample_submission.csv.zip: Skipping, found more recently modified local copy (use --force to force download)\n",
      "page_views.csv.zip: Skipping, found more recently modified local copy (use --force to force download)\n",
      "clicks_test.csv.zip: Skipping, found more recently modified local copy (use --force to force download)\n",
      "clicks_train.csv.zip: Skipping, found more recently modified local copy (use --force to force download)\n"
     ]
    }
   ],
   "source": [
    "! for f in $(kaggle competitions files outbrain-click-prediction | cut -d ' ' -f 1 | tail -n+3); do kaggle competitions download outbrain-click-prediction -f $f -p ./data/; done"
   ]
  },
  {
   "cell_type": "markdown",
   "metadata": {},
   "source": [
    "# Load data to HDFS"
   ]
  },
  {
   "cell_type": "markdown",
   "metadata": {},
   "source": [
    "https://www.kaggle.com/c/outbrain-click-prediction/data"
   ]
  },
  {
   "cell_type": "markdown",
   "metadata": {
    "cell_status": {
     "execute_time": {
      "duration": 4507.58203125,
      "end_time": 1582237971017.23
     }
    }
   },
   "source": [
    "%%local\n",
    "! hdfs dfs -rm -r /task1\n",
    "! hdfs dfs -mkdir /task1"
   ]
  },
  {
   "cell_type": "markdown",
   "metadata": {
    "cell_status": {
     "execute_time": {
      "duration": 5347.8388671875,
      "end_time": 1582237943122.283
     }
    }
   },
   "source": [
    "%%local\n",
    "! for i in `ls *.zip`; do unzip -p $i | tqdm | hadoop fs -put - /task1/${i//\\.zip/}; done"
   ]
  },
  {
   "cell_type": "markdown",
   "metadata": {
    "cell_status": {
     "execute_time": {
      "duration": 2246.673095703125,
      "end_time": 1582237727913.001
     }
    }
   },
   "source": [
    "%%local\n",
    "! hadoop fs -du -s -h /task1/*.csv"
   ]
  },
  {
   "cell_type": "code",
   "execution_count": 13,
   "metadata": {},
   "outputs": [
    {
     "name": "stdout",
     "output_type": "stream",
     "text": [
      "Archive:  data/clicks_test.csv.zip\r\n",
      "Archive:  data/clicks_train.csv.zip\r\n",
      "Archive:  data/documents_categories.csv.zip\r\n",
      "Archive:  data/documents_entities.csv.zip\r\n",
      "Archive:  data/documents_meta.csv.zip\r\n",
      "Archive:  data/documents_topics.csv.zip\r\n",
      "Archive:  data/events.csv.zip\r\n",
      "Archive:  data/page_views.csv.zip\r\n",
      "Archive:  data/page_views_sample.csv.zip\r\n",
      "Archive:  data/promoted_content.csv.zip\r\n",
      "Archive:  data/sample_submission.csv.zip\r\n"
     ]
    }
   ],
   "source": [
    "! for i in `ls data/*.zip`; do unzip -n -d ./data/ $i; done"
   ]
  },
  {
   "cell_type": "markdown",
   "metadata": {},
   "source": [
    "# Read example"
   ]
  },
  {
   "cell_type": "code",
   "execution_count": 14,
   "metadata": {},
   "outputs": [],
   "source": [
    "data_path = '/datadrive/LSML2020/data/'"
   ]
  },
  {
   "cell_type": "code",
   "execution_count": 15,
   "metadata": {},
   "outputs": [],
   "source": [
    "pvdf = ss.read.csv(data_path + \"page_views.csv\", header=True)"
   ]
  },
  {
   "cell_type": "code",
   "execution_count": 16,
   "metadata": {},
   "outputs": [
    {
     "data": {
      "text/plain": [
       "[('uuid', 'string'),\n",
       " ('document_id', 'string'),\n",
       " ('timestamp', 'string'),\n",
       " ('platform', 'string'),\n",
       " ('geo_location', 'string'),\n",
       " ('traffic_source', 'string')]"
      ]
     },
     "execution_count": 16,
     "metadata": {},
     "output_type": "execute_result"
    }
   ],
   "source": [
    "pvdf.dtypes"
   ]
  },
  {
   "cell_type": "code",
   "execution_count": 17,
   "metadata": {},
   "outputs": [
    {
     "name": "stdout",
     "output_type": "stream",
     "text": [
      "+--------------+-----------+---------+--------+------------+--------------+\n",
      "|          uuid|document_id|timestamp|platform|geo_location|traffic_source|\n",
      "+--------------+-----------+---------+--------+------------+--------------+\n",
      "|1fd5f051fba643|        120| 31905835|       1|          RS|             2|\n",
      "|8557aa9004be3b|        120| 32053104|       1|       VN>44|             2|\n",
      "|c351b277a358f0|        120| 54013023|       1|       KR>12|             1|\n",
      "|8205775c5387f9|        120| 44196592|       1|       IN>16|             2|\n",
      "|9cb0ccd8458371|        120| 65817371|       1|   US>CA>807|             2|\n",
      "+--------------+-----------+---------+--------+------------+--------------+\n",
      "only showing top 5 rows\n",
      "\n"
     ]
    }
   ],
   "source": [
    "pvdf.show(5)"
   ]
  },
  {
   "cell_type": "markdown",
   "metadata": {},
   "source": [
    "# Convert all to Parquet"
   ]
  },
  {
   "cell_type": "markdown",
   "metadata": {},
   "source": [
    "%%time\n",
    "\n",
    "def convert_all_to_parquet():\n",
    "    task_dir = data_path\n",
    "    all_files = hdfs_ls(task_dir)\n",
    "    for fn in all_files:\n",
    "        if fn.endswith(\".csv\"):\n",
    "            fn_after = fn.replace(\".csv\", \".parquet\")\n",
    "            path_before = fn\n",
    "            path_after = fn_after\n",
    "            if fn_after not in all_files:\n",
    "                # generate parquet\n",
    "                df = ss.read.csv(path_before, header=True)\n",
    "                df.write.parquet(path_after)\n",
    "            print(fn_after, \"done\")\n",
    "\n",
    "convert_all_to_parquet()"
   ]
  },
  {
   "cell_type": "markdown",
   "metadata": {},
   "source": [
    "Remove csv, we have parquet now"
   ]
  },
  {
   "cell_type": "markdown",
   "metadata": {
    "collapsed": true
   },
   "source": [
    "%%local\n",
    "! hdfs dfs -rm /data/*.csv"
   ]
  },
  {
   "cell_type": "markdown",
   "metadata": {},
   "source": [
    "%%local\n",
    "! hadoop fs -du -s -h /data/*"
   ]
  },
  {
   "cell_type": "markdown",
   "metadata": {},
   "source": [
    "# Preview all files"
   ]
  },
  {
   "cell_type": "code",
   "execution_count": 18,
   "metadata": {
    "scrolled": false
   },
   "outputs": [
    {
     "name": "stdout",
     "output_type": "stream",
     "text": [
      "############### file:/datadrive/LSML2020/data/documents_topics.csv ###############\n",
      "+-----------+--------+------------------+\n",
      "|document_id|topic_id|  confidence_level|\n",
      "+-----------+--------+------------------+\n",
      "|    1595802|     140|0.0731131601068925|\n",
      "|    1595802|      16|0.0594164867373976|\n",
      "|    1595802|     143|0.0454207537554526|\n",
      "+-----------+--------+------------------+\n",
      "only showing top 3 rows\n",
      "\n",
      "############### file:/datadrive/LSML2020/data/promoted_content.csv ###############\n",
      "+-----+-----------+-----------+-------------+\n",
      "|ad_id|document_id|campaign_id|advertiser_id|\n",
      "+-----+-----------+-----------+-------------+\n",
      "|    1|       6614|          1|            7|\n",
      "|    2|     471467|          2|            7|\n",
      "|    3|       7692|          3|            7|\n",
      "+-----+-----------+-----------+-------------+\n",
      "only showing top 3 rows\n",
      "\n",
      "############### file:/datadrive/LSML2020/data/documents_meta.csv ###############\n",
      "+-----------+---------+------------+-------------------+\n",
      "|document_id|source_id|publisher_id|       publish_time|\n",
      "+-----------+---------+------------+-------------------+\n",
      "|    1595802|        1|         603|2016-06-05 00:00:00|\n",
      "|    1524246|        1|         603|2016-05-26 11:00:00|\n",
      "|    1617787|        1|         603|2016-05-27 00:00:00|\n",
      "+-----------+---------+------------+-------------------+\n",
      "only showing top 3 rows\n",
      "\n",
      "############### file:/datadrive/LSML2020/data/clicks_test.csv ###############\n",
      "+----------+------+\n",
      "|display_id| ad_id|\n",
      "+----------+------+\n",
      "|  16874594| 66758|\n",
      "|  16874594|150083|\n",
      "|  16874594|162754|\n",
      "+----------+------+\n",
      "only showing top 3 rows\n",
      "\n",
      "############### file:/datadrive/LSML2020/data/page_views_sample.csv ###############\n",
      "+--------------+-----------+---------+--------+------------+--------------+\n",
      "|          uuid|document_id|timestamp|platform|geo_location|traffic_source|\n",
      "+--------------+-----------+---------+--------+------------+--------------+\n",
      "|1fd5f051fba643|        120| 31905835|       1|          RS|             2|\n",
      "|8557aa9004be3b|        120| 32053104|       1|       VN>44|             2|\n",
      "|c351b277a358f0|        120| 54013023|       1|       KR>12|             1|\n",
      "+--------------+-----------+---------+--------+------------+--------------+\n",
      "only showing top 3 rows\n",
      "\n",
      "############### file:/datadrive/LSML2020/data/page_views.csv ###############\n",
      "+--------------+-----------+---------+--------+------------+--------------+\n",
      "|          uuid|document_id|timestamp|platform|geo_location|traffic_source|\n",
      "+--------------+-----------+---------+--------+------------+--------------+\n",
      "|1fd5f051fba643|        120| 31905835|       1|          RS|             2|\n",
      "|8557aa9004be3b|        120| 32053104|       1|       VN>44|             2|\n",
      "|c351b277a358f0|        120| 54013023|       1|       KR>12|             1|\n",
      "+--------------+-----------+---------+--------+------------+--------------+\n",
      "only showing top 3 rows\n",
      "\n",
      "############### file:/datadrive/LSML2020/data/pred_data.csv ###############\n",
      "+--------+------+\n",
      "|16874673| 91797|\n",
      "+--------+------+\n",
      "|16874673|107055|\n",
      "|16874673|158923|\n",
      "|16874673|207162|\n",
      "+--------+------+\n",
      "only showing top 3 rows\n",
      "\n",
      "############### file:/datadrive/LSML2020/data/documents_categories.csv ###############\n",
      "+-----------+-----------+----------------+\n",
      "|document_id|category_id|confidence_level|\n",
      "+-----------+-----------+----------------+\n",
      "|    1595802|       1611|            0.92|\n",
      "|    1595802|       1610|            0.07|\n",
      "|    1524246|       1807|            0.92|\n",
      "+-----------+-----------+----------------+\n",
      "only showing top 3 rows\n",
      "\n",
      "############### file:/datadrive/LSML2020/data/events.csv ###############\n",
      "+----------+--------------+-----------+---------+--------+------------+\n",
      "|display_id|          uuid|document_id|timestamp|platform|geo_location|\n",
      "+----------+--------------+-----------+---------+--------+------------+\n",
      "|         1|cb8c55702adb93|     379743|       61|       3|   US>SC>519|\n",
      "|         2|79a85fa78311b9|    1794259|       81|       2|   US>CA>807|\n",
      "|         3|822932ce3d8757|    1179111|      182|       2|   US>MI>505|\n",
      "+----------+--------------+-----------+---------+--------+------------+\n",
      "only showing top 3 rows\n",
      "\n",
      "############### file:/datadrive/LSML2020/data/documents_entities.csv ###############\n",
      "+-----------+--------------------+-----------------+\n",
      "|document_id|           entity_id| confidence_level|\n",
      "+-----------+--------------------+-----------------+\n",
      "|    1524246|f9eec25663db4cd83...|0.672865314504701|\n",
      "|    1524246|55ebcfbdaff1d6f60...|0.399113728441297|\n",
      "|    1524246|839907a972930b17b...|0.392095749652966|\n",
      "+-----------+--------------------+-----------------+\n",
      "only showing top 3 rows\n",
      "\n",
      "############### file:/datadrive/LSML2020/data/sample_submission.csv ###############\n",
      "+----------+--------------------+\n",
      "|display_id|               ad_id|\n",
      "+----------+--------------------+\n",
      "|  16874594|66758 150083 1627...|\n",
      "|  16874595|   8846 30609 143982|\n",
      "|  16874596|11430 57197 13282...|\n",
      "+----------+--------------------+\n",
      "only showing top 3 rows\n",
      "\n",
      "############### file:/datadrive/LSML2020/data/clicks_train.csv ###############\n",
      "+----------+------+-------+\n",
      "|display_id| ad_id|clicked|\n",
      "+----------+------+-------+\n",
      "|         1| 42337|      0|\n",
      "|         1|139684|      0|\n",
      "|         1|144739|      1|\n",
      "+----------+------+-------+\n",
      "only showing top 3 rows\n",
      "\n",
      "CPU times: user 53.6 ms, sys: 36.3 ms, total: 89.9 ms\n",
      "Wall time: 8.92 s\n"
     ]
    }
   ],
   "source": [
    "%%time\n",
    "def preview_all_files():\n",
    "    task_dir = data_path\n",
    "    all_files = hdfs_ls(task_dir)\n",
    "    for fn in all_files:\n",
    "        if '.zip' in fn:\n",
    "            continue\n",
    "        if '.csv' not in fn:\n",
    "            continue\n",
    "        df = ss.read.csv(fn, header=True)\n",
    "        print(\"#\" * 15 + \" {0} \".format(fn) + \"#\" * 15)\n",
    "        df.show(3)\n",
    "        \n",
    "preview_all_files()"
   ]
  },
  {
   "cell_type": "markdown",
   "metadata": {},
   "source": [
    "# Register all tables to be usable in SQL queries"
   ]
  },
  {
   "cell_type": "code",
   "execution_count": 19,
   "metadata": {},
   "outputs": [
    {
     "name": "stdout",
     "output_type": "stream",
     "text": [
      "documents_topics done\n",
      "promoted_content done\n",
      "documents_meta done\n",
      "clicks_test done\n",
      "page_views_sample done\n",
      "page_views done\n",
      "pred_data done\n",
      "documents_categories done\n",
      "events done\n",
      "documents_entities done\n",
      "sample_submission done\n",
      "clicks_train done\n",
      "CPU times: user 61 ms, sys: 6.63 ms, total: 67.6 ms\n",
      "Wall time: 6.09 s\n"
     ]
    }
   ],
   "source": [
    "%%time\n",
    "def register_all_tables():\n",
    "    task_dir = data_path\n",
    "    all_files = hdfs_ls(task_dir)\n",
    "    for fn in all_files:\n",
    "        if fn.endswith(\".csv\"):\n",
    "            table_name = os.path.basename(fn).replace(\".csv\", \"\")\n",
    "            \n",
    "            df = ss.read.csv(fn, header=True)\n",
    "            df.registerTempTable(table_name)\n",
    "            print(table_name, \"done\")\n",
    "        \n",
    "register_all_tables()"
   ]
  },
  {
   "cell_type": "markdown",
   "metadata": {
    "collapsed": true
   },
   "source": [
    "# 1. Baseline"
   ]
  },
  {
   "cell_type": "markdown",
   "metadata": {},
   "source": [
    "Simple model using the following features:\n",
    "- **clicked**\n",
    "- geo_location features (country, state, dma)\n",
    "- day_of_week (from timestamp, use *date.isoweekday()*)\n",
    "- ad_id\n",
    "- ad_document_id\n",
    "- campaign_id\n",
    "- advertiser_id\n",
    "- display_document_id\n",
    "- platform"
   ]
  },
  {
   "cell_type": "code",
   "execution_count": 20,
   "metadata": {},
   "outputs": [],
   "source": [
    "from pyspark.sql import SQLContext\n",
    "\n",
    "sqlContext = SQLContext(sc)"
   ]
  },
  {
   "cell_type": "code",
   "execution_count": 21,
   "metadata": {},
   "outputs": [
    {
     "data": {
      "text/plain": [
       "<function __main__.get_dma(row)>"
      ]
     },
     "execution_count": 21,
     "metadata": {},
     "output_type": "execute_result"
    }
   ],
   "source": [
    "def get_country(row):\n",
    "    if row is None:\n",
    "        return ''\n",
    "    geo_locations = row.split('>')\n",
    "    return geo_locations[0] \n",
    "\n",
    "def get_state(row):\n",
    "    if row is None:\n",
    "        return ''\n",
    "    geo_locations = row.split('>')\n",
    "    return geo_locations[1] if len(geo_locations) == 3 else ''\n",
    "\n",
    "def get_dma(row):\n",
    "    if row is None:\n",
    "        return ''\n",
    "    geo_locations = row.split('>')\n",
    "    return geo_locations[2] if len(geo_locations) == 3 else ''\n",
    "\n",
    "sqlContext.udf.register(\"get_country\", get_country)\n",
    "sqlContext.udf.register(\"get_state\", get_state)\n",
    "sqlContext.udf.register(\"get_dma\", get_dma)"
   ]
  },
  {
   "cell_type": "code",
   "execution_count": 22,
   "metadata": {},
   "outputs": [
    {
     "data": {
      "text/plain": [
       "<function __main__.get_hour(timestamp)>"
      ]
     },
     "execution_count": 22,
     "metadata": {},
     "output_type": "execute_result"
    }
   ],
   "source": [
    "from datetime import datetime\n",
    "\n",
    "def get_weekday(timestamp): \n",
    "    if timestamp is None:\n",
    "        return ''\n",
    "    dt = datetime.fromtimestamp((int(timestamp) + 1465876799998) / 1000)\n",
    "    return str(dt.weekday())\n",
    "\n",
    "def get_day(timestamp): \n",
    "    if timestamp is None:\n",
    "        return ''\n",
    "    dt = datetime.fromtimestamp((int(timestamp) + 1465876799998) / 1000)\n",
    "    return str(dt.day)\n",
    "\n",
    "def get_month(timestamp): \n",
    "    if timestamp is None:\n",
    "        return ''\n",
    "    dt = datetime.fromtimestamp((int(timestamp) + 1465876799998) / 1000)\n",
    "    return str(dt.month)\n",
    "\n",
    "def get_hour(timestamp):\n",
    "    if timestamp is None:\n",
    "        return ''\n",
    "    dt = datetime.fromtimestamp((int(timestamp) + 1465876799998) / 1000)\n",
    "    return str(dt.hour)\n",
    "\n",
    "sqlContext.udf.register(\"get_weekday\", get_weekday)\n",
    "sqlContext.udf.register(\"get_day\", get_day)\n",
    "sqlContext.udf.register(\"get_month\", get_month)\n",
    "sqlContext.udf.register(\"get_hour\", get_hour)"
   ]
  },
  {
   "cell_type": "code",
   "execution_count": 23,
   "metadata": {},
   "outputs": [],
   "source": [
    "def get_train_table():\n",
    "    return ss.sql(\"\"\"\n",
    "SELECT\n",
    "    clicks_train.clicked,\n",
    "    clicks_train.display_id,\n",
    "    get_country(events.geo_location) as country,\n",
    "    get_state(events.geo_location) as state,\n",
    "    get_dma(events.geo_location) as dma,\n",
    "    get_weekday(events.timestamp) as weekday,\n",
    "    clicks_train.ad_id,\n",
    "    promoted_content.document_id as ad_document_id,\n",
    "    promoted_content.campaign_id,\n",
    "    promoted_content.advertiser_id,\n",
    "    events.document_id as display_document_id,\n",
    "    events.platform\n",
    "FROM clicks_train\n",
    "LEFT JOIN events ON clicks_train.display_id = events.display_id\n",
    "LEFT JOIN promoted_content ON clicks_train.ad_id = promoted_content.ad_id\n",
    "\"\"\")"
   ]
  },
  {
   "cell_type": "code",
   "execution_count": 24,
   "metadata": {},
   "outputs": [],
   "source": [
    "def make_vw_train_test(row, target=True):\n",
    "    clicked = ''\n",
    "    if target:\n",
    "        clicked = 1 if int(row.clicked) == 1 else -1,\n",
    "    return (\n",
    "        \"{clicked} |f\"\n",
    "        \" display_id_{display_id}\"\n",
    "        \" country_{country}\"\n",
    "        \" state_{state}\"\n",
    "        \" dma_{dma}\"\n",
    "        \" weekday_{weekday}\"\n",
    "        \" ad_id_{ad_id}\"\n",
    "        \" ad_document_id_{ad_document_id}\"\n",
    "        \" campaign_id_{campaign_id}\"\n",
    "        \" advertiser_id_{advertiser_id}\"\n",
    "        \" display_document_id_{display_document_id}\"\n",
    "        \" platform_{platform}\"\n",
    "    ).format(\n",
    "        clicked=clicked,\n",
    "        display_id=row.display_id,\n",
    "        country=row.country,\n",
    "        state=row.state,\n",
    "        dma=row.dma,\n",
    "        #month=row.month,\n",
    "        #day=row.day if row.day else 0,\n",
    "        weekday=row.weekday,\n",
    "        #hour=row.hour if row.hour else 0,\n",
    "        ad_id=row.ad_id,\n",
    "        ad_document_id=row.ad_document_id,\n",
    "        campaign_id=row.campaign_id,\n",
    "        advertiser_id=row.advertiser_id,\n",
    "        display_document_id=row.display_document_id,\n",
    "        platform=row.platform\n",
    "    )\n",
    "def make_vw_train(row):\n",
    "    return make_vw_train_test(row, target=True)\n",
    "\n",
    "def make_vw_test(row):\n",
    "    return make_vw_train_test(row, target=False)"
   ]
  },
  {
   "cell_type": "code",
   "execution_count": 25,
   "metadata": {},
   "outputs": [
    {
     "name": "stdout",
     "output_type": "stream",
     "text": [
      "CPU times: user 326 ms, sys: 88.7 ms, total: 415 ms\n",
      "Wall time: 46min 31s\n"
     ]
    }
   ],
   "source": [
    "%%time\n",
    "dataset_name = \"data/dataset-v4.data\"\n",
    "if not(os.path.exists(dataset_name)):\n",
    "    train_table = get_train_table()\n",
    "    train_table.rdd.map(make_vw_train).saveAsTextFile(dataset_name)\n",
    "else:\n",
    "    print('already exists')"
   ]
  },
  {
   "cell_type": "code",
   "execution_count": 58,
   "metadata": {},
   "outputs": [],
   "source": [
    "def merge_parted_file(parted_file, full_file, use_replacement=True):\n",
    "    if os.path.exists(full_file):\n",
    "        print('Already exists')\n",
    "        return\n",
    "    if parted_file[-1] == '/':\n",
    "        parted_file = parted_file[:-1]\n",
    "    os.system('cat {0}/part-* > {1}'.format(parted_file, full_file))\n",
    "    print('file merged')\n",
    "    if use_replacement:\n",
    "        os.system('sed -i \\'s/(-1,)/-1/\\' {0}'.format(full_file))\n",
    "        print('(-1,) replaced with -1')\n",
    "        os.system('sed -i \\'s/(1,)/1/\\' {0}'.format(full_file))\n",
    "        print('(1,) replaced with 1')\n",
    "    print(\"done\")"
   ]
  },
  {
   "cell_type": "code",
   "execution_count": 40,
   "metadata": {},
   "outputs": [
    {
     "name": "stdout",
     "output_type": "stream",
     "text": [
      "file merged\n",
      "(-1,) replaced with -1\n",
      "(1,) replaced with 1\n",
      "done\n",
      "CPU times: user 184 ms, sys: 94 ms, total: 278 ms\n",
      "Wall time: 34min 37s\n"
     ]
    }
   ],
   "source": [
    "%%time\n",
    "merge_parted_file('data/dataset-v4.data', 'data/dataset-v4.txt')"
   ]
  },
  {
   "cell_type": "markdown",
   "metadata": {},
   "source": [
    "## Train VW"
   ]
  },
  {
   "cell_type": "markdown",
   "metadata": {},
   "source": [
    "https://github.com/JohnLangford/vowpal_wabbit/wiki/Command-line-arguments"
   ]
  },
  {
   "cell_type": "code",
   "execution_count": 41,
   "metadata": {
    "cell_status": {
     "execute_time": {
      "duration": 204.3740234375,
      "end_time": 1582237145215.502
     }
    }
   },
   "outputs": [
    {
     "name": "stdout",
     "output_type": "stream",
     "text": [
      "-1 |f display_id_15514599 country_US state_ dma_ weekday_6 ad_id_100010 ad_document_id_1132761 campaign_id_13049 advertiser_id_2848 display_document_id_1914050 platform_1\r\n",
      "-1 |f display_id_15434742 country_US state_FL dma_539 weekday_6 ad_id_100010 ad_document_id_1132761 campaign_id_13049 advertiser_id_2848 display_document_id_339764 platform_1\r\n"
     ]
    }
   ],
   "source": [
    "! head -n2 data/dataset-v4.txt"
   ]
  },
  {
   "cell_type": "code",
   "execution_count": 42,
   "metadata": {
    "cell_status": {
     "execute_time": {
      "duration": 312.14306640625,
      "end_time": 1582237147864.006
     }
    }
   },
   "outputs": [
    {
     "name": "stdout",
     "output_type": "stream",
     "text": [
      "using l1 regularization = 1\n",
      "final_regressor = model\n",
      "Enabling FTRL based optimization\n",
      "Algorithm used: Proximal-FTRL\n",
      "ftrl_alpha = 0.05\n",
      "ftrl_beta = 0.5\n",
      "Num weight bits = 28\n",
      "learning rate = 0.01\n",
      "initial_t = 0\n",
      "power_t = 0.5\n",
      "decay_learning_rate = 1\n",
      "creating cache_file = data/dataset-v4.txt.cache\n",
      "Reading datafile = data/dataset-v4.txt\n",
      "num sources = 1\n",
      "average  since         example        example  current  current  current\n",
      "loss     last          counter         weight    label  predict features\n",
      "0.462493 0.462493      1000000      1000000.0   1.0000  -1.3345       12\n",
      "0.456527 0.450562      2000000      2000000.0  -1.0000  -1.8718       12\n",
      "0.447067 0.428145      3000000      3000000.0  -1.0000  -1.1681       12\n",
      "0.446389 0.444357      4000000      4000000.0  -1.0000  -2.4393       12\n",
      "0.445750 0.443193      5000000      5000000.0  -1.0000  -0.8910       12\n",
      "0.445471 0.444073      6000000      6000000.0   1.0000  -2.4542       12\n",
      "0.443786 0.433678      7000000      7000000.0  -1.0000  -2.0833       12\n",
      "0.441613 0.426400      8000000      8000000.0  -1.0000  -1.4928       12\n",
      "0.439606 0.423554      9000000      9000000.0  -1.0000  -1.9507       12\n",
      "0.439143 0.434969     10000000     10000000.0  -1.0000  -1.2739       12\n",
      "0.438713 0.434416     11000000     11000000.0  -1.0000  -1.7855       12\n",
      "0.437005 0.418220     12000000     12000000.0  -1.0000  -3.3285       12\n",
      "0.436647 0.432350     13000000     13000000.0  -1.0000  -2.3488       12\n",
      "0.436396 0.433132     14000000     14000000.0  -1.0000  -1.0319       12\n",
      "0.435765 0.426933     15000000     15000000.0  -1.0000  -0.9784       12\n",
      "0.436933 0.454447     16000000     16000000.0  -1.0000  -1.8249       12\n",
      "0.437870 0.452863     17000000     17000000.0  -1.0000  -0.8925       12\n",
      "0.438176 0.443384     18000000     18000000.0   1.0000   0.3172       12\n",
      "0.437800 0.431039     19000000     19000000.0  -1.0000  -1.7382       12\n",
      "0.438090 0.443588     20000000     20000000.0  -1.0000  -0.9183       12\n",
      "0.437148 0.418319     21000000     21000000.0  -1.0000  -2.4255       12\n",
      "0.438003 0.455941     22000000     22000000.0  -1.0000  -1.4718       12\n",
      "0.439869 0.480936     23000000     23000000.0   1.0000  -1.1532       12\n",
      "0.440246 0.448906     24000000     24000000.0   1.0000  -0.6552       12\n",
      "0.440718 0.452054     25000000     25000000.0  -1.0000  -1.1554       12\n",
      "0.440630 0.438416     26000000     26000000.0  -1.0000  -1.1421       12\n",
      "0.439652 0.414224     27000000     27000000.0  -1.0000  -1.7509       12\n",
      "0.441292 0.485575     28000000     28000000.0   1.0000  -0.5386       12\n",
      "0.441642 0.451446     29000000     29000000.0  -1.0000  -1.8610       12\n",
      "0.441652 0.441960     30000000     30000000.0  -1.0000  -2.7282       12\n",
      "0.440063 0.392380     31000000     31000000.0  -1.0000  -0.3708       12\n",
      "0.439275 0.414863     32000000     32000000.0  -1.0000  -1.5159       12\n",
      "0.439555 0.448502     33000000     33000000.0  -1.0000  -0.8849       12\n",
      "0.439489 0.437324     34000000     34000000.0  -1.0000  -1.1773       12\n",
      "0.438357 0.399868     35000000     35000000.0  -1.0000   0.7019       12\n",
      "0.438891 0.457564     36000000     36000000.0  -1.0000  -2.6985       12\n",
      "0.438013 0.406427     37000000     37000000.0  -1.0000  -2.3942       12\n",
      "0.438551 0.458453     38000000     38000000.0  -1.0000  -3.0047       12\n",
      "0.438997 0.455918     39000000     39000000.0  -1.0000  -1.7069       12\n",
      "0.439321 0.451955     40000000     40000000.0  -1.0000  -1.5368       12\n",
      "0.438851 0.420065     41000000     41000000.0   1.0000  -1.6613       12\n",
      "0.438350 0.417806     42000000     42000000.0  -1.0000  -0.9326       12\n",
      "0.438253 0.434179     43000000     43000000.0  -1.0000  -1.5349       12\n",
      "0.438844 0.464247     44000000     44000000.0  -1.0000   0.3984       12\n",
      "0.438337 0.416044     45000000     45000000.0   1.0000  -1.7511       12\n",
      "0.437885 0.417535     46000000     46000000.0  -1.0000  -0.4620       12\n",
      "0.437492 0.419410     47000000     47000000.0  -1.0000  -1.9201       12\n",
      "0.438095 0.466435     48000000     48000000.0  -1.0000  -1.9184       12\n",
      "0.437505 0.409204     49000000     49000000.0   1.0000  -2.2111       12\n",
      "0.437067 0.415594     50000000     50000000.0  -1.0000  -1.0571       12\n",
      "0.437934 0.481288     51000000     51000000.0   1.0000  -0.8749       12\n",
      "0.437077 0.393362     52000000     52000000.0  -1.0000  -2.8233       12\n",
      "0.437119 0.439329     53000000     53000000.0  -1.0000  -4.1130       12\n",
      "0.436537 0.405651     54000000     54000000.0   1.0000  -1.8471       12\n",
      "0.436782 0.450040     55000000     55000000.0  -1.0000  -3.3852       12\n",
      "0.436786 0.436976     56000000     56000000.0  -1.0000  -2.3645       12\n",
      "0.436310 0.409696     57000000     57000000.0  -1.0000  -1.3213       12\n",
      "0.436086 0.423303     58000000     58000000.0   1.0000  -1.0332       12\n",
      "0.435960 0.428638     59000000     59000000.0  -1.0000  -2.0531       12\n",
      "0.436151 0.447409     60000000     60000000.0  -1.0000  -2.3865       12\n",
      "0.436564 0.461345     61000000     61000000.0  -1.0000  -0.4897       12\n",
      "0.436089 0.407123     62000000     62000000.0  -1.0000  -1.0542       12\n",
      "0.435845 0.420736     63000000     63000000.0  -1.0000  -1.4933       12\n",
      "0.435919 0.440592     64000000     64000000.0   1.0000  -1.8566       12\n",
      "0.435772 0.426366     65000000     65000000.0  -1.0000  -0.3161       12\n",
      "0.435927 0.445980     66000000     66000000.0  -1.0000  -0.9982       12\n",
      "0.436428 0.469526     67000000     67000000.0   1.0000  -1.4075       12\n",
      "0.435348 0.362972     68000000     68000000.0  -1.0000  -2.8919       12\n",
      "0.435345 0.435110     69000000     69000000.0   1.0000   0.3437       12\n",
      "0.435808 0.467756     70000000     70000000.0  -1.0000  -2.1559       12\n",
      "0.435836 0.437802     71000000     71000000.0   1.0000  -0.9472       12\n",
      "0.435952 0.444171     72000000     72000000.0  -1.0000  -0.9321       12\n",
      "0.436196 0.453792     73000000     73000000.0  -1.0000  -1.9246       12\n",
      "0.436866 0.485756     74000000     74000000.0  -1.0000  -2.5911       12\n",
      "0.437022 0.448590     75000000     75000000.0  -1.0000  -1.9352       12\n",
      "0.437311 0.458955     76000000     76000000.0  -1.0000  -2.4488       12\n",
      "0.437175 0.426860     77000000     77000000.0  -1.0000  -2.0881       12\n",
      "0.437114 0.432401     78000000     78000000.0  -1.0000  -1.6560       12\n",
      "0.437212 0.444865     79000000     79000000.0   1.0000  -0.4110       12\n",
      "0.436846 0.407975     80000000     80000000.0  -1.0000  -0.7385       12\n",
      "0.436415 0.401887     81000000     81000000.0  -1.0000  -2.7637       12\n",
      "0.436433 0.437891     82000000     82000000.0  -1.0000  -1.9282       12\n",
      "0.436331 0.428021     83000000     83000000.0  -1.0000  -2.1929       12\n",
      "0.436000 0.408462     84000000     84000000.0   1.0000  -1.6981       12\n",
      "0.435287 0.375443     85000000     85000000.0  -1.0000  -0.6324       12\n",
      "0.435554 0.458272     86000000     86000000.0  -1.0000  -1.4705       12\n",
      "0.435907 0.466230     87000000     87000000.0  -1.0000   0.1102       12\n",
      "0.436210 0.462583     88000000     88000000.0  -1.0000  -2.7854       12\n",
      "0.436406 0.453630     89000000     89000000.0  -1.0000  -0.5688       12\n",
      "0.436270 0.424190     90000000     90000000.0  -1.0000  -1.1239       12\n",
      "0.436259 0.435294     91000000     91000000.0  -1.0000  -1.7785       12\n",
      "0.436334 0.443129     92000000     92000000.0   1.0000  -0.0426       12\n",
      "0.436211 0.424890     93000000     93000000.0  -1.0000  -2.2810       12\n",
      "0.436273 0.441992     94000000     94000000.0  -1.0000  -1.4504       12\n",
      "0.436056 0.415660     95000000     95000000.0   1.0000  -2.1232       12\n",
      "0.436024 0.433019     96000000     96000000.0  -1.0000  -0.8994       12\n",
      "0.435828 0.417058     97000000     97000000.0  -1.0000  -2.9535       12\n",
      "0.435825 0.435533     98000000     98000000.0  -1.0000  -2.0263       12\n",
      "0.435579 0.411415     99000000     99000000.0  -1.0000  -2.1490       12\n",
      "0.435502 0.427851    100000000    100000000.0   1.0000  -1.6751       12\n",
      "0.435535 0.438902    101000000    101000000.0  -1.0000  -1.6963       12\n",
      "0.435191 0.400376    102000000    102000000.0  -1.0000  -2.3493       12\n",
      "0.435465 0.463459    103000000    103000000.0  -1.0000  -3.1170       12\n",
      "0.435533 0.442534    104000000    104000000.0  -1.0000  -0.8798       12\n",
      "0.435634 0.446096    105000000    105000000.0  -1.0000  -1.2137       12\n",
      "0.435563 0.428100    106000000    106000000.0   1.0000  -0.4685       12\n"
     ]
    },
    {
     "name": "stdout",
     "output_type": "stream",
     "text": [
      "0.435591 0.438660    107000000    107000000.0  -1.0000  -2.3664       12\n",
      "0.435578 0.434170    108000000    108000000.0  -1.0000  -1.5457       12\n",
      "0.435579 0.435619    109000000    109000000.0   1.0000  -1.5220       12\n",
      "0.435943 0.475659    110000000    110000000.0  -1.0000  -1.3827       12\n",
      "0.436036 0.446236    111000000    111000000.0  -1.0000  -2.9987       12\n",
      "0.436070 0.439864    112000000    112000000.0  -1.0000  -1.2434       12\n",
      "0.436153 0.445406    113000000    113000000.0  -1.0000  -3.2465       12\n",
      "0.436018 0.420763    114000000    114000000.0  -1.0000  -1.0974       12\n",
      "0.436340 0.473070    115000000    115000000.0  -1.0000  -1.5146       12\n",
      "0.436669 0.474510    116000000    116000000.0  -1.0000  -1.2266       12\n",
      "0.436423 0.407852    117000000    117000000.0  -1.0000  -2.1233       12\n",
      "0.436057 0.393345    118000000    118000000.0  -1.0000  -2.3823       12\n",
      "0.436013 0.430818    119000000    119000000.0  -1.0000  -1.4112       12\n",
      "0.436000 0.434454    120000000    120000000.0  -1.0000  -2.6640       12\n",
      "0.435988 0.434434    121000000    121000000.0  -1.0000  -1.9092       12\n",
      "0.435575 0.385684    122000000    122000000.0  -1.0000  -1.6379       12\n",
      "0.435745 0.456523    123000000    123000000.0  -1.0000  -0.2467       12\n",
      "0.435556 0.412191    124000000    124000000.0  -1.0000  -2.2891       12\n",
      "0.435679 0.451039    125000000    125000000.0  -1.0000  -2.5945       12\n",
      "0.435789 0.449472    126000000    126000000.0  -1.0000  -0.7092       12\n",
      "0.435956 0.456997    127000000    127000000.0  -1.0000  -1.8706       12\n",
      "0.435843 0.421487    128000000    128000000.0  -1.0000  -2.8801       12\n",
      "0.435770 0.426429    129000000    129000000.0  -1.0000  -2.6285       12\n",
      "0.435531 0.404753    130000000    130000000.0  -1.0000  -2.9120       12\n",
      "0.435708 0.458647    131000000    131000000.0  -1.0000  -0.5662       12\n",
      "0.435579 0.418713    132000000    132000000.0  -1.0000  -1.8062       12\n",
      "0.435414 0.413706    133000000    133000000.0  -1.0000  -2.1948       12\n",
      "0.435343 0.425891    134000000    134000000.0  -1.0000  -1.7487       12\n",
      "0.435508 0.457594    135000000    135000000.0  -1.0000  -1.5069       12\n",
      "0.435357 0.414942    136000000    136000000.0  -1.0000  -1.8195       12\n",
      "0.435166 0.409160    137000000    137000000.0   1.0000  -1.5797       12\n",
      "0.435411 0.469054    138000000    138000000.0  -1.0000  -0.4454       12\n",
      "0.435197 0.405673    139000000    139000000.0  -1.0000  -2.7032       12\n",
      "0.435268 0.445141    140000000    140000000.0  -1.0000  -0.9670       12\n",
      "0.434972 0.393418    141000000    141000000.0   1.0000  -1.7603       12\n",
      "0.434996 0.438478    142000000    142000000.0   1.0000  -0.6080       12\n",
      "0.435027 0.439421    143000000    143000000.0  -1.0000  -1.0968       12\n",
      "0.434910 0.418087    144000000    144000000.0  -1.0000  -1.6926       12\n",
      "0.434711 0.406159    145000000    145000000.0  -1.0000  -2.4813       12\n",
      "0.434708 0.434267    146000000    146000000.0  -1.0000  -1.8593       12\n",
      "0.434761 0.442467    147000000    147000000.0  -1.0000  -2.2158       12\n",
      "0.434930 0.459739    148000000    148000000.0   1.0000  -0.6999       12\n",
      "0.434750 0.408190    149000000    149000000.0  -1.0000  -0.2549       12\n",
      "0.434598 0.411938    150000000    150000000.0  -1.0000  -2.2685       12\n",
      "0.434656 0.443322    151000000    151000000.0   1.0000  -1.6027       12\n",
      "0.434575 0.422393    152000000    152000000.0  -1.0000  -2.0742       12\n",
      "0.434599 0.438175    153000000    153000000.0  -1.0000  -2.0548       12\n",
      "0.434794 0.464640    154000000    154000000.0  -1.0000  -2.3094       12\n",
      "0.434501 0.389335    155000000    155000000.0  -1.0000  -0.4507       12\n",
      "0.434309 0.404617    156000000    156000000.0  -1.0000  -2.6861       12\n",
      "0.434525 0.468222    157000000    157000000.0  -1.0000  -0.4733       12\n",
      "0.434605 0.447164    158000000    158000000.0  -1.0000  -2.2881       12\n",
      "0.434679 0.446420    159000000    159000000.0  -1.0000  -2.6293       12\n",
      "0.434612 0.423917    160000000    160000000.0  -1.0000  -0.7491       12\n",
      "0.434990 0.495459    161000000    161000000.0  -1.0000  -1.5921       12\n",
      "0.435156 0.461849    162000000    162000000.0  -1.0000  -1.7948       12\n",
      "0.435310 0.460255    163000000    163000000.0  -1.0000  -3.1792       12\n",
      "0.435216 0.419828    164000000    164000000.0  -1.0000  -1.4419       12\n",
      "0.435154 0.424990    165000000    165000000.0  -1.0000  -1.3800       12\n",
      "0.435192 0.441491    166000000    166000000.0  -1.0000  -3.0170       12\n",
      "0.435170 0.431578    167000000    167000000.0  -1.0000  -1.8131       12\n",
      "0.434849 0.381278    168000000    168000000.0   1.0000  -0.6363       12\n",
      "0.434806 0.427506    169000000    169000000.0  -1.0000  -1.5869       12\n",
      "0.434781 0.430619    170000000    170000000.0  -1.0000  -2.9600       12\n",
      "0.434563 0.397470    171000000    171000000.0  -1.0000  -2.6684       12\n",
      "0.434287 0.387129    172000000    172000000.0   1.0000   0.4820       12\n",
      "0.434404 0.454453    173000000    173000000.0  -1.0000  -0.7978       12\n",
      "0.434607 0.469780    174000000    174000000.0  -1.0000  -2.8854       12\n",
      "0.434654 0.442828    175000000    175000000.0  -1.0000  -0.0329       12\n",
      "0.434897 0.477378    176000000    176000000.0  -1.0000  -4.0429       12\n",
      "0.434832 0.423470    177000000    177000000.0  -1.0000  -3.5711       12\n",
      "0.434745 0.419240    178000000    178000000.0  -1.0000  -2.2282       12\n",
      "0.434724 0.431110    179000000    179000000.0  -1.0000  -0.3879       12\n",
      "0.434733 0.436360    180000000    180000000.0  -1.0000  -2.4873       12\n",
      "0.434733 0.434722    181000000    181000000.0   1.0000  -0.1736       12\n",
      "0.434625 0.415052    182000000    182000000.0   1.0000  -0.8511       12\n",
      "0.434645 0.438324    183000000    183000000.0  -1.0000  -1.2562       12\n",
      "0.434487 0.405449    184000000    184000000.0  -1.0000  -1.0709       12\n",
      "0.434443 0.426294    185000000    185000000.0  -1.0000  -0.6878       12\n",
      "0.434356 0.418440    186000000    186000000.0  -1.0000  -3.2557       12\n",
      "0.434382 0.439071    187000000    187000000.0  -1.0000  -1.8340       12\n",
      "0.434336 0.425724    188000000    188000000.0  -1.0000  -1.5123       12\n",
      "0.434182 0.405255    189000000    189000000.0  -1.0000  -1.9255       12\n",
      "0.434283 0.453411    190000000    190000000.0  -1.0000  -0.2502       12\n",
      "0.434281 0.433886    191000000    191000000.0  -1.0000  -1.1556       12\n",
      "0.434385 0.454331    192000000    192000000.0  -1.0000  -2.3520       12\n",
      "0.434365 0.430522    193000000    193000000.0  -1.0000  -0.7232       12\n",
      "0.434356 0.432479    194000000    194000000.0  -1.0000  -1.5171       12\n",
      "0.434371 0.437373    195000000    195000000.0  -1.0000  -1.2364       12\n",
      "0.434351 0.430391    196000000    196000000.0   1.0000  -0.9942       12\n",
      "0.434514 0.466561    197000000    197000000.0  -1.0000   0.0307       12\n",
      "0.434656 0.462486    198000000    198000000.0  -1.0000  -1.3379       12\n",
      "0.434678 0.439124    199000000    199000000.0  -1.0000  -1.6959       12\n",
      "0.434651 0.429300    200000000    200000000.0  -1.0000  -2.6439       12\n",
      "0.434652 0.434859    201000000    201000000.0  -1.0000  -0.2573       12\n",
      "0.434751 0.454582    202000000    202000000.0  -1.0000  -0.8895       12\n",
      "0.434961 0.477376    203000000    203000000.0  -1.0000  -1.0241       12\n",
      "0.434908 0.424184    204000000    204000000.0  -1.0000   0.0682       12\n",
      "0.434613 0.374396    205000000    205000000.0   1.0000  -2.1457       12\n",
      "0.434619 0.435862    206000000    206000000.0   1.0000  -1.9073       12\n",
      "0.434631 0.437203    207000000    207000000.0  -1.0000  -1.1026       12\n",
      "0.434660 0.440690    208000000    208000000.0  -1.0000  -1.5476       12\n",
      "0.434378 0.375603    209000000    209000000.0  -1.0000  -2.5662       12\n",
      "0.434437 0.446731    210000000    210000000.0   1.0000   0.4360       12\n",
      "0.434361 0.418393    211000000    211000000.0   1.0000  -0.5964       12\n",
      "0.434441 0.451321    212000000    212000000.0  -1.0000  -0.5774       12\n",
      "0.434542 0.456131    213000000    213000000.0   1.0000   0.7530       12\n",
      "0.434663 0.460242    214000000    214000000.0  -1.0000  -3.4873       12\n",
      "0.434553 0.411117    215000000    215000000.0  -1.0000  -1.8011       12\n",
      "0.434587 0.441933    216000000    216000000.0  -1.0000  -1.7662       12\n",
      "0.434377 0.388931    217000000    217000000.0  -1.0000  -1.7750       12\n",
      "0.434445 0.449343    218000000    218000000.0  -1.0000  -0.5748       12\n",
      "0.434444 0.434217    219000000    219000000.0  -1.0000  -3.0605       12\n"
     ]
    },
    {
     "name": "stdout",
     "output_type": "stream",
     "text": [
      "0.434340 0.411476    220000000    220000000.0   1.0000  -2.2523       12\n",
      "0.434231 0.410232    221000000    221000000.0   1.0000  -1.6791       12\n",
      "0.434353 0.461327    222000000    222000000.0   1.0000  -1.8026       12\n",
      "0.434222 0.405203    223000000    223000000.0  -1.0000  -2.3069       12\n",
      "0.434123 0.412035    224000000    224000000.0   1.0000   0.1425       12\n",
      "0.434256 0.464018    225000000    225000000.0  -1.0000  -3.0008       12\n",
      "0.434192 0.419867    226000000    226000000.0  -1.0000  -2.1408       12\n",
      "0.434214 0.439187    227000000    227000000.0  -1.0000  -3.1588       12\n",
      "0.434139 0.417127    228000000    228000000.0  -1.0000  -2.8219       12\n",
      "0.434024 0.407620    229000000    229000000.0  -1.0000  -3.1854       12\n",
      "0.434087 0.448551    230000000    230000000.0  -1.0000  -3.2437       12\n",
      "0.434034 0.421863    231000000    231000000.0   1.0000  -1.1286       12\n",
      "0.433874 0.396839    232000000    232000000.0  -1.0000  -1.7584       12\n",
      "0.433872 0.433520    233000000    233000000.0  -1.0000  -1.3308       12\n",
      "0.433903 0.441133    234000000    234000000.0  -1.0000  -0.6615       12\n",
      "0.433932 0.440752    235000000    235000000.0  -1.0000  -0.6108       12\n",
      "0.433869 0.419070    236000000    236000000.0  -1.0000  -2.8164       12\n",
      "0.433829 0.424417    237000000    237000000.0  -1.0000  -2.8349       12\n",
      "0.433784 0.422974    238000000    238000000.0  -1.0000  -1.1579       12\n",
      "0.433802 0.438237    239000000    239000000.0  -1.0000  -1.6774       12\n",
      "0.433770 0.426123    240000000    240000000.0  -1.0000  -1.9579       12\n",
      "0.433916 0.468854    241000000    241000000.0  -1.0000  -4.9115       12\n",
      "0.433738 0.390802    242000000    242000000.0  -1.0000  -3.4391       12\n",
      "0.433616 0.404127    243000000    243000000.0  -1.0000  -0.9638       12\n",
      "0.433667 0.446002    244000000    244000000.0  -1.0000  -1.5924       12\n",
      "0.433854 0.479535    245000000    245000000.0  -1.0000  -2.8871       12\n",
      "0.433807 0.422227    246000000    246000000.0  -1.0000  -2.0031       12\n",
      "0.433760 0.422305    247000000    247000000.0  -1.0000  -3.4988       12\n",
      "0.433996 0.492209    248000000    248000000.0  -1.0000  -2.2062       12\n",
      "0.434120 0.464978    249000000    249000000.0  -1.0000  -1.5333       12\n",
      "0.434236 0.463043    250000000    250000000.0  -1.0000   0.4889       12\n",
      "0.434165 0.416480    251000000    251000000.0  -1.0000  -1.5308       12\n",
      "0.434136 0.426895    252000000    252000000.0  -1.0000  -1.2992       12\n",
      "0.434151 0.437840    253000000    253000000.0  -1.0000  -3.2503       12\n",
      "0.434173 0.439716    254000000    254000000.0  -1.0000  -1.2083       12\n",
      "0.433976 0.383983    255000000    255000000.0  -1.0000  -1.3305       12\n",
      "0.433940 0.424720    256000000    256000000.0  -1.0000  -1.8141       12\n",
      "0.433838 0.407864    257000000    257000000.0  -1.0000  -1.7569       12\n",
      "0.433798 0.423296    258000000    258000000.0   1.0000  -3.2558       12\n",
      "0.433604 0.383704    259000000    259000000.0  -1.0000  -2.8944       12\n",
      "0.433670 0.450825    260000000    260000000.0  -1.0000  -0.8819       12\n",
      "0.433745 0.453118    261000000    261000000.0   1.0000   0.2598       12\n",
      "\n",
      "finished run\n",
      "number of examples = 261425193\n",
      "weighted example sum = 261425193.000000\n",
      "weighted label sum = -160177635.000000\n",
      "average loss = 0.433793\n",
      "best constant = -1.426495\n",
      "best constant's loss = 0.491466\n",
      "total feature number = 3137102316\n"
     ]
    }
   ],
   "source": [
    "! vw -d data/dataset-v4.txt -b 28 -c -k --ftrl --passes 3 -f model -l 0.01 --l1 1 --ftrl_alpha 0.05 --ftrl_beta 0.5 --holdout_off --loss_function logistic --random_seed 42 --progress 1000000"
   ]
  },
  {
   "cell_type": "markdown",
   "metadata": {},
   "source": [
    "## Check VW test performance"
   ]
  },
  {
   "cell_type": "code",
   "execution_count": 47,
   "metadata": {},
   "outputs": [],
   "source": [
    "def get_test_table():\n",
    "    return ss.sql(\"\"\"\n",
    "SELECT\n",
    "    clicks_test.display_id,\n",
    "    get_country(events.geo_location) as country,\n",
    "    get_state(events.geo_location) as state,\n",
    "    get_dma(events.geo_location) as dma,\n",
    "    get_weekday(events.timestamp) as weekday,\n",
    "    clicks_test.ad_id,\n",
    "    promoted_content.document_id as ad_document_id,\n",
    "    promoted_content.campaign_id,\n",
    "    promoted_content.advertiser_id,\n",
    "    events.document_id as display_document_id,\n",
    "    events.platform\n",
    "FROM clicks_test\n",
    "LEFT JOIN events ON clicks_test.display_id = events.display_id\n",
    "LEFT JOIN promoted_content ON clicks_test.ad_id = promoted_content.ad_id\n",
    "\"\"\")"
   ]
  },
  {
   "cell_type": "code",
   "execution_count": 48,
   "metadata": {},
   "outputs": [
    {
     "name": "stdout",
     "output_type": "stream",
     "text": [
      "CPU times: user 102 ms, sys: 69.9 ms, total: 172 ms\n",
      "Wall time: 16min 50s\n"
     ]
    }
   ],
   "source": [
    "%%time\n",
    "test_table = None\n",
    "dataset_test_name = \"data/dataset-test-v4.data\"\n",
    "if not(os.path.exists(dataset_test_name)):\n",
    "    test_table = get_test_table()\n",
    "    test_table.rdd.map(make_vw_test).saveAsTextFile(dataset_test_name)\n",
    "    test_table.registerTempTable('test_table')\n",
    "else:\n",
    "    print('already exists')"
   ]
  },
  {
   "cell_type": "code",
   "execution_count": 50,
   "metadata": {},
   "outputs": [
    {
     "name": "stdout",
     "output_type": "stream",
     "text": [
      "file merged\n",
      "(-1,) replaced with -1\n",
      "(1,) replaced with 1\n",
      "done\n",
      "CPU times: user 39.4 ms, sys: 52.8 ms, total: 92.2 ms\n",
      "Wall time: 8min 8s\n"
     ]
    }
   ],
   "source": [
    "%%time\n",
    "merge_parted_file(dataset_test_name, 'data/dataset-test-v4.txt')"
   ]
  },
  {
   "cell_type": "code",
   "execution_count": 51,
   "metadata": {
    "cell_status": {
     "execute_time": {
      "duration": 214.2021484375,
      "end_time": 1582237318373.902
     }
    }
   },
   "outputs": [
    {
     "name": "stdout",
     "output_type": "stream",
     "text": [
      "only testing\n",
      "predictions = test_predictions.txt\n",
      "Num weight bits = 28\n",
      "learning rate = 0.5\n",
      "initial_t = 0\n",
      "power_t = 0.5\n",
      "using no cache\n",
      "Reading datafile = data/dataset-test-v4.txt\n",
      "num sources = 1\n",
      "average  since         example        example  current  current  current\n",
      "loss     last          counter         weight    label  predict features\n",
      "0.000000 0.000000      1000000      1000000.0  unknown   0.0471       12\n",
      "0.000000 0.000000      2000000      2000000.0  unknown   0.1998       12\n",
      "0.000000 0.000000      3000000      3000000.0  unknown   0.0843       12\n",
      "0.000000 0.000000      4000000      4000000.0  unknown   0.2207       12\n",
      "0.000000 0.000000      5000000      5000000.0  unknown   0.0162       12\n",
      "0.000000 0.000000      6000000      6000000.0  unknown   0.1677       12\n",
      "0.000000 0.000000      7000000      7000000.0  unknown   0.1037       12\n",
      "0.000000 0.000000      8000000      8000000.0  unknown   0.5450       12\n",
      "0.000000 0.000000      9000000      9000000.0  unknown   0.0974       12\n",
      "0.000000 0.000000     10000000     10000000.0  unknown   0.3093       12\n",
      "0.000000 0.000000     11000000     11000000.0  unknown   0.0647       12\n",
      "0.000000 0.000000     12000000     12000000.0  unknown   0.4062       12\n",
      "0.000000 0.000000     13000000     13000000.0  unknown   0.2750       12\n",
      "0.000000 0.000000     14000000     14000000.0  unknown   0.1504       12\n",
      "0.000000 0.000000     15000000     15000000.0  unknown   0.0804       12\n",
      "0.000000 0.000000     16000000     16000000.0  unknown   0.1357       12\n",
      "0.000000 0.000000     17000000     17000000.0  unknown   0.1070       12\n",
      "0.000000 0.000000     18000000     18000000.0  unknown   0.1220       12\n",
      "0.000000 0.000000     19000000     19000000.0  unknown   0.0419       12\n",
      "0.000000 0.000000     20000000     20000000.0  unknown   0.1460       12\n",
      "0.000000 0.000000     21000000     21000000.0  unknown   0.0654       12\n",
      "0.000000 0.000000     22000000     22000000.0  unknown   0.0266       12\n",
      "0.000000 0.000000     23000000     23000000.0  unknown   0.0653       12\n",
      "0.000000 0.000000     24000000     24000000.0  unknown   0.1801       12\n",
      "0.000000 0.000000     25000000     25000000.0  unknown   0.1604       12\n",
      "0.000000 0.000000     26000000     26000000.0  unknown   0.1718       12\n",
      "0.000000 0.000000     27000000     27000000.0  unknown   0.0884       12\n",
      "0.000000 0.000000     28000000     28000000.0  unknown   0.0865       12\n",
      "0.000000 0.000000     29000000     29000000.0  unknown   0.3630       12\n",
      "0.000000 0.000000     30000000     30000000.0  unknown   0.5523       12\n",
      "0.000000 0.000000     31000000     31000000.0  unknown   0.0879       12\n",
      "0.000000 0.000000     32000000     32000000.0  unknown   0.1516       12\n",
      "\n",
      "finished run\n",
      "number of examples per pass = 32225162\n",
      "passes used = 1\n",
      "weighted example sum = 32225162.000000\n",
      "weighted label sum = 0.000000\n",
      "average loss = 0.000000\n",
      "total feature number = 386701944\n"
     ]
    }
   ],
   "source": [
    "! vw -d data/dataset-test-v4.txt -i model -t -k -p test_predictions.txt --progress 1000000 --link=logistic"
   ]
  },
  {
   "cell_type": "code",
   "execution_count": 52,
   "metadata": {
    "cell_status": {
     "execute_time": {
      "duration": 207.689208984375,
      "end_time": 1582237359437.642
     }
    }
   },
   "outputs": [
    {
     "name": "stdout",
     "output_type": "stream",
     "text": [
      "0.221685\r\n",
      "0.149993\r\n",
      "cat: write error: Broken pipe\r\n"
     ]
    }
   ],
   "source": [
    "! cat data/test_predictions.txt | head -n2"
   ]
  },
  {
   "cell_type": "code",
   "execution_count": 1,
   "metadata": {
    "cell_status": {
     "execute_time": {
      "duration": 7.95703125,
      "end_time": 1582237326519.143
     }
    }
   },
   "outputs": [],
   "source": [
    "import numpy as np\n",
    "\n",
    "def read_vw_predictions(p):\n",
    "    y_pred = []\n",
    "    with open(p, \"r\") as f:\n",
    "        for line in f:\n",
    "            y_pred.append(float(line.split()[0]))\n",
    "    return np.array(y_pred)\n",
    "\n",
    "y_pred = read_vw_predictions(\"data/test_predictions.txt\")"
   ]
  },
  {
   "cell_type": "code",
   "execution_count": 2,
   "metadata": {},
   "outputs": [],
   "source": [
    "def read_pred_data(file_name):\n",
    "    display_ids = []\n",
    "    ad_ids = []\n",
    "    with open(file_name, 'r') as f:\n",
    "        for line in f:\n",
    "            #print(line)\n",
    "            elems = list(line.split(','))\n",
    "            \n",
    "            try:\n",
    "                display_ids.append(int(elems[0]))\n",
    "                ad_ids.append(int(elems[5]))\n",
    "            except:\n",
    "                print(line)\n",
    "    return display_ids, ad_ids"
   ]
  },
  {
   "cell_type": "code",
   "execution_count": 79,
   "metadata": {},
   "outputs": [],
   "source": [
    "test_table.write.csv('data/test_table.folder')"
   ]
  },
  {
   "cell_type": "code",
   "execution_count": 81,
   "metadata": {},
   "outputs": [
    {
     "name": "stdout",
     "output_type": "stream",
     "text": [
      "file merged\n",
      "done\n"
     ]
    }
   ],
   "source": [
    "merge_parted_file('data/test_table.folder', 'data/test_table.csv', False)"
   ]
  },
  {
   "cell_type": "code",
   "execution_count": 3,
   "metadata": {},
   "outputs": [],
   "source": [
    "display_ids, ad_ids = read_pred_data('data/test_table.csv')"
   ]
  },
  {
   "cell_type": "code",
   "execution_count": 4,
   "metadata": {},
   "outputs": [],
   "source": [
    "from tqdm import tqdm\n",
    "import numpy as np"
   ]
  },
  {
   "cell_type": "code",
   "execution_count": 5,
   "metadata": {},
   "outputs": [
    {
     "name": "stderr",
     "output_type": "stream",
     "text": [
      "100%|██████████| 32225162/32225162 [02:01<00:00, 265127.77it/s]\n"
     ]
    }
   ],
   "source": [
    "display_ids = np.array(display_ids)\n",
    "ad_ids = np.array(ad_ids)\n",
    "display_to_set_of_ads = dict()\n",
    "for dis_id, ad_id in tqdm(zip(display_ids, ad_ids), total=len(display_ids)):\n",
    "    if dis_id not in display_to_set_of_ads:\n",
    "        display_to_set_of_ads[dis_id] = list()\n",
    "        \n",
    "    display_to_set_of_ads[dis_id].append(ad_id)"
   ]
  },
  {
   "cell_type": "code",
   "execution_count": 6,
   "metadata": {},
   "outputs": [
    {
     "data": {
      "text/plain": [
       "[170392, 150083, 66758, 162754, 180797, 172888]"
      ]
     },
     "execution_count": 6,
     "metadata": {},
     "output_type": "execute_result"
    }
   ],
   "source": [
    "display_to_set_of_ads[16874594]"
   ]
  },
  {
   "cell_type": "code",
   "execution_count": 7,
   "metadata": {},
   "outputs": [],
   "source": [
    "id2score = {(dis_id, ad_id): score for ad_id, dis_id, score in zip(ad_ids, display_ids, y_pred)}"
   ]
  },
  {
   "cell_type": "code",
   "execution_count": 8,
   "metadata": {},
   "outputs": [],
   "source": [
    "ordered_display_to_set_of_ads = list(sorted(display_to_set_of_ads.items(), key=lambda x: x[0]))"
   ]
  },
  {
   "cell_type": "code",
   "execution_count": 12,
   "metadata": {},
   "outputs": [
    {
     "name": "stderr",
     "output_type": "stream",
     "text": [
      "100%|██████████| 6245533/6245533 [03:27<00:00, 30051.84it/s]\n"
     ]
    }
   ],
   "source": [
    "with open('submission.csv', 'w') as f:\n",
    "    print('display_id,ad_id', file=f)\n",
    "    for display, potential_ids in tqdm(ordered_display_to_set_of_ads):\n",
    "        print(str(display) + ',' + ' '.join(map(str, sorted(potential_ids, key=lambda x: id2score[(display,x)], reverse=True))), file=f)"
   ]
  },
  {
   "cell_type": "code",
   "execution_count": 13,
   "metadata": {},
   "outputs": [
    {
     "name": "stdout",
     "output_type": "stream",
     "text": [
      "100%|████████████████████████████████████████| 260M/260M [00:03<00:00, 80.6MB/s]\n",
      "Successfully submitted to Outbrain Click Prediction"
     ]
    }
   ],
   "source": [
    "! kaggle competitions submit -f submission.csv -m \"kek\" outbrain-click-prediction"
   ]
  },
  {
   "cell_type": "code",
   "execution_count": 14,
   "metadata": {},
   "outputs": [
    {
     "name": "stdout",
     "output_type": "stream",
     "text": [
      "display_id,ad_id\r\n",
      "16874594,170392 172888 162754 150083 66758 180797\r\n",
      "16874595,8846 143982 30609\r\n",
      "16874596,289915 289122 132820 11430 153260 57197 173005 288385\r\n",
      "16874597,285834 305790 143981 182039 308836 155945 137858 180965\r\n",
      "16874598,145937 335632 67292 250082\r\n",
      "16874599,91681 173130 210516 296295 213116 163776\r\n",
      "16874600,57591 70529 30682 133050 2150 114836\r\n",
      "16874601,190713 92003 129490 14082 140942 118470\r\n",
      "16874602,154918 281563 269017 131316 268548\r\n"
     ]
    }
   ],
   "source": [
    "! head submission.csv"
   ]
  },
  {
   "cell_type": "code",
   "execution_count": null,
   "metadata": {},
   "outputs": [],
   "source": []
  }
 ],
 "metadata": {
  "kernelspec": {
   "display_name": "Python [conda env:root] *",
   "language": "python",
   "name": "conda-root-py"
  },
  "language_info": {
   "codemirror_mode": {
    "name": "ipython",
    "version": 3
   },
   "file_extension": ".py",
   "mimetype": "text/x-python",
   "name": "python",
   "nbconvert_exporter": "python",
   "pygments_lexer": "ipython3",
   "version": "3.7.6"
  }
 },
 "nbformat": 4,
 "nbformat_minor": 2
}
